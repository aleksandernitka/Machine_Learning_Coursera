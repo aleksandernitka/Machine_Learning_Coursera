{
 "cells": [
  {
   "cell_type": "markdown",
   "metadata": {},
   "source": [
    "# Linear Algebra with Python for ML\n",
    "\n",
    "To do linear algebra appropriatelly we need Numpy (may need to `pip install numpy` or `conda install numpy` it first). Then import it into your script, command line operation or notebook."
   ]
  },
  {
   "cell_type": "code",
   "execution_count": 1,
   "metadata": {},
   "outputs": [],
   "source": [
    "import numpy as np"
   ]
  },
  {
   "cell_type": "markdown",
   "metadata": {},
   "source": [
    "Matrices are formed using the `array` method; row after row, as above. Note how many and what type of brackets are used in this syntax."
   ]
  },
  {
   "cell_type": "code",
   "execution_count": 4,
   "metadata": {},
   "outputs": [
    {
     "name": "stdout",
     "output_type": "stream",
     "text": [
      "A =  [[121  21]\n",
      " [ 57  57]\n",
      " [ 78  32]\n",
      " [ 11  66]]\n"
     ]
    }
   ],
   "source": [
    "A = np.array([[121, 21], [57, 57] , [78, 32], [11, 66]])\n",
    "print('A = ', A)"
   ]
  },
  {
   "cell_type": "markdown",
   "metadata": {},
   "source": [
    "Column vectors are called in the same way"
   ]
  },
  {
   "cell_type": "code",
   "execution_count": 12,
   "metadata": {},
   "outputs": [],
   "source": [
    "y = np.array([[460], [232], [315], [178]])"
   ]
  },
  {
   "cell_type": "markdown",
   "metadata": {},
   "source": [
    "Vectors can also be built using the `array` method:"
   ]
  },
  {
   "cell_type": "code",
   "execution_count": 9,
   "metadata": {},
   "outputs": [],
   "source": [
    "a = np.array([1, 2, 3, 4])"
   ]
  },
  {
   "cell_type": "markdown",
   "metadata": {},
   "source": [
    "Dimensions can be checked by using the `.shape`:"
   ]
  },
  {
   "cell_type": "code",
   "execution_count": 10,
   "metadata": {},
   "outputs": [
    {
     "name": "stdout",
     "output_type": "stream",
     "text": [
      "matrix A is of dimensions  (4, 2)\n",
      "column vector y is of dimensions  (4, 1)\n",
      "vector a is of dimensions  (4,)\n"
     ]
    }
   ],
   "source": [
    "print('matrix A is of dimensions ', A.shape)\n",
    "print('column vector y is of dimensions ', y.shape)\n",
    "print('vector a is of dimensions ', a.shape)"
   ]
  },
  {
   "cell_type": "markdown",
   "metadata": {},
   "source": [
    "## Slicing\n",
    "Accessing particular values in the matrix. **Note**, that Python is 0-indexing! \n",
    "\n",
    "**[Row, Column]**"
   ]
  },
  {
   "cell_type": "code",
   "execution_count": 13,
   "metadata": {},
   "outputs": [
    {
     "name": "stdout",
     "output_type": "stream",
     "text": [
      "[[121  21]\n",
      " [ 57  57]\n",
      " [ 78  32]\n",
      " [ 11  66]]\n"
     ]
    }
   ],
   "source": [
    "A = np.array([[121, 21], [57, 57] , [78, 32], [11, 66]])\n",
    "\n",
    "print(A)"
   ]
  },
  {
   "cell_type": "code",
   "execution_count": 20,
   "metadata": {},
   "outputs": [
    {
     "data": {
      "text/plain": [
       "78"
      ]
     },
     "execution_count": 20,
     "metadata": {},
     "output_type": "execute_result"
    }
   ],
   "source": [
    "A[2,0] # Second (third) row, first (0th) collumn"
   ]
  },
  {
   "cell_type": "code",
   "execution_count": 21,
   "metadata": {},
   "outputs": [
    {
     "data": {
      "text/plain": [
       "array([121,  57,  78,  11])"
      ]
     },
     "execution_count": 21,
     "metadata": {},
     "output_type": "execute_result"
    }
   ],
   "source": [
    "A[:,0] # slice whole first (0th) column by ':'."
   ]
  },
  {
   "cell_type": "markdown",
   "metadata": {},
   "source": [
    "## Matrix addittion and substraction\n",
    "\n",
    "matrix and matrix"
   ]
  },
  {
   "cell_type": "code",
   "execution_count": 24,
   "metadata": {},
   "outputs": [
    {
     "name": "stdout",
     "output_type": "stream",
     "text": [
      "[[ 5.   0.5]\n",
      " [ 4.  10. ]\n",
      " [ 3.   2. ]]\n"
     ]
    }
   ],
   "source": [
    "A = np.array([[1, 0], [2, 5], [3, 1]])\n",
    "B = np.array([[4, 0.5], [2, 5], [0, 1]])\n",
    "\n",
    "print(A + B)"
   ]
  },
  {
   "cell_type": "code",
   "execution_count": 25,
   "metadata": {},
   "outputs": [
    {
     "name": "stdout",
     "output_type": "stream",
     "text": [
      "[[-3.  -0.5]\n",
      " [ 0.   0. ]\n",
      " [ 3.   0. ]]\n"
     ]
    }
   ],
   "source": [
    "print(A - B)"
   ]
  },
  {
   "cell_type": "markdown",
   "metadata": {},
   "source": [
    "## Scalar by matrix multiplication and division"
   ]
  },
  {
   "cell_type": "code",
   "execution_count": 26,
   "metadata": {},
   "outputs": [
    {
     "name": "stdout",
     "output_type": "stream",
     "text": [
      "[[ 3  0]\n",
      " [ 6 15]\n",
      " [ 9  3]]\n"
     ]
    }
   ],
   "source": [
    "print(3 * A)"
   ]
  },
  {
   "cell_type": "code",
   "execution_count": 27,
   "metadata": {},
   "outputs": [
    {
     "name": "stdout",
     "output_type": "stream",
     "text": [
      "[[0.33333333 0.        ]\n",
      " [0.66666667 1.66666667]\n",
      " [1.         0.33333333]]\n"
     ]
    }
   ],
   "source": [
    "print(A / 3)"
   ]
  },
  {
   "cell_type": "markdown",
   "metadata": {},
   "source": [
    "## Combination"
   ]
  },
  {
   "cell_type": "code",
   "execution_count": 29,
   "metadata": {},
   "outputs": [
    {
     "name": "stdout",
     "output_type": "stream",
     "text": [
      "[[ 2.        ]\n",
      " [12.        ]\n",
      " [10.33333333]]\n"
     ]
    }
   ],
   "source": [
    "a = np.array([[1], [4], [2]])\n",
    "b = np.array([[0], [0], [5]])\n",
    "c = np.array([[3], [0], [2]])\n",
    "\n",
    "print(3 * a + b - c /3)"
   ]
  },
  {
   "cell_type": "markdown",
   "metadata": {},
   "source": [
    "## Matrix x vector multiplication\n",
    "\n",
    "Unlike MATLAB Python's matrix * column vector (n\\*1 matrix) is not default and one has to use dot function. \n",
    "\n",
    "**Note** the dimensions that must be used for this operation; **[m\\*n] x [n\\*1] = [m\\*1]**"
   ]
  },
  {
   "cell_type": "code",
   "execution_count": 34,
   "metadata": {},
   "outputs": [
    {
     "name": "stdout",
     "output_type": "stream",
     "text": [
      "[[16]\n",
      " [ 4]\n",
      " [ 7]]\n",
      "A is of dim (3, 2)\n",
      "b is of dim (2, 1)\n"
     ]
    }
   ],
   "source": [
    "A = np.array([[1, 3], [4, 0], [2, 1]])\n",
    "b = np.array([[1], [5]])\n",
    "\n",
    "print(np.dot(A, b))\n",
    "\n",
    "print('A is of dim', A.shape)\n",
    "print('b is of dim', b.shape)"
   ]
  },
  {
   "cell_type": "markdown",
   "metadata": {},
   "source": [
    "Vector x matrix for `h(theta)`"
   ]
  },
  {
   "cell_type": "code",
   "execution_count": 37,
   "metadata": {},
   "outputs": [
    {
     "name": "stdout",
     "output_type": "stream",
     "text": [
      "[[486. ]\n",
      " [314. ]\n",
      " [343.5]\n",
      " [173. ]]\n"
     ]
    }
   ],
   "source": [
    "X = np.array([[1, 2104], [1, 1416], [1, 1534], [1, 852]])\n",
    "h = np.array([[-40], [.25]])\n",
    "\n",
    "print(np.dot(X,h))"
   ]
  },
  {
   "cell_type": "markdown",
   "metadata": {},
   "source": [
    "## Matrix x Matrix multiplication\n",
    "\n",
    "is pretty much like matrix x vector, but two columns are bound.\n",
    "\n",
    "**Note** the dimensions **[m\\*n] x [n\\*o] = [m\\*o]**"
   ]
  },
  {
   "cell_type": "code",
   "execution_count": 39,
   "metadata": {},
   "outputs": [
    {
     "name": "stdout",
     "output_type": "stream",
     "text": [
      "[[11 10]\n",
      " [ 9 14]]\n"
     ]
    }
   ],
   "source": [
    "A = np.array([[1, 3, 2], [4, 0, 1]])\n",
    "B = np.array([[1, 3], [0, 1], [5, 2]])\n",
    "\n",
    "print(np.dot(A, B))"
   ]
  },
  {
   "cell_type": "markdown",
   "metadata": {},
   "source": [
    "## Identity Matrix"
   ]
  },
  {
   "cell_type": "code",
   "execution_count": 42,
   "metadata": {},
   "outputs": [
    {
     "name": "stdout",
     "output_type": "stream",
     "text": [
      "[[1. 0. 0.]\n",
      " [0. 1. 0.]\n",
      " [0. 0. 1.]]\n"
     ]
    }
   ],
   "source": [
    "I = np.eye(3,3)\n",
    "\n",
    "print(I)"
   ]
  },
  {
   "cell_type": "markdown",
   "metadata": {},
   "source": [
    "# Inverse\n",
    "\n",
    "We need to import from `numpy.linalg`, **note**, that `inv` will only work for square matrixes while `pinv` for any dimensions:"
   ]
  },
  {
   "cell_type": "code",
   "execution_count": 48,
   "metadata": {},
   "outputs": [
    {
     "name": "stdout",
     "output_type": "stream",
     "text": [
      "[[-0.03465347  0.24752475]\n",
      " [ 0.25247525 -0.08910891]\n",
      " [ 0.13861386  0.00990099]]\n"
     ]
    }
   ],
   "source": [
    "from numpy.linalg import pinv\n",
    "\n",
    "Ainv = pinv(A)\n",
    "\n",
    "print(Ainv)"
   ]
  },
  {
   "cell_type": "markdown",
   "metadata": {},
   "source": [
    "## Transpose"
   ]
  },
  {
   "cell_type": "code",
   "execution_count": 52,
   "metadata": {},
   "outputs": [
    {
     "name": "stdout",
     "output_type": "stream",
     "text": [
      "[[1 4]\n",
      " [3 0]\n",
      " [2 1]]\n"
     ]
    }
   ],
   "source": [
    "print(A.transpose())"
   ]
  },
  {
   "cell_type": "code",
   "execution_count": null,
   "metadata": {},
   "outputs": [],
   "source": []
  }
 ],
 "metadata": {
  "kernelspec": {
   "display_name": "Python 3",
   "language": "python",
   "name": "python3"
  },
  "language_info": {
   "codemirror_mode": {
    "name": "ipython",
    "version": 3
   },
   "file_extension": ".py",
   "mimetype": "text/x-python",
   "name": "python",
   "nbconvert_exporter": "python",
   "pygments_lexer": "ipython3",
   "version": "3.6.6"
  }
 },
 "nbformat": 4,
 "nbformat_minor": 2
}
