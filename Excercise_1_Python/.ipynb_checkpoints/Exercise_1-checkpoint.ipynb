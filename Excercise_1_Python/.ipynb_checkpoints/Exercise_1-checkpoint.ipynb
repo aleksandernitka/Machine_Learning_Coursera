{
 "cells": [
  {
   "cell_type": "markdown",
   "metadata": {},
   "source": [
    "# Excercise 1\n",
    "\n",
    "### Load data\n"
   ]
  },
  {
   "cell_type": "code",
   "execution_count": 118,
   "metadata": {},
   "outputs": [
    {
     "name": "stdout",
     "output_type": "stream",
     "text": [
      "[[ 5.5277  9.1302]\n",
      " [ 8.5186 13.662 ]\n",
      " [ 7.0032 11.854 ]\n",
      " [ 5.8598  6.8233]]\n"
     ]
    }
   ],
   "source": [
    "import numpy as np\n",
    "    \n",
    "data1 = np.genfromtxt('ex1data1.txt', delimiter=',')\n",
    "\n",
    "print(data1[1:5])"
   ]
  },
  {
   "cell_type": "markdown",
   "metadata": {},
   "source": [
    "### Split data into X and y"
   ]
  },
  {
   "cell_type": "code",
   "execution_count": 119,
   "metadata": {},
   "outputs": [
    {
     "name": "stdout",
     "output_type": "stream",
     "text": [
      "X =  [5.5277 8.5186 7.0032 5.8598] ...\n",
      "y =  [ 9.1302 13.662  11.854   6.8233] ...\n",
      "There are  97  training examples.\n"
     ]
    }
   ],
   "source": [
    "X = data1[:,0]\n",
    "print('X = ', X[1:5], '...')\n",
    "\n",
    "y = data1[:,1]\n",
    "print(\"y = \", y[1:5], '...')\n",
    "\n",
    "m = len(y)\n",
    "print('There are ', m, ' training examples.')"
   ]
  },
  {
   "cell_type": "markdown",
   "metadata": {},
   "source": [
    "### Plot the data"
   ]
  },
  {
   "cell_type": "code",
   "execution_count": 120,
   "metadata": {},
   "outputs": [
    {
     "data": {
      "image/png": "[encoded data removed]",
      "text/plain": [
       "<Figure size 432x288 with 1 Axes>"
      ]
     },
     "metadata": {
      "needs_background": "light"
     },
     "output_type": "display_data"
    }
   ],
   "source": [
    "import matplotlib\n",
    "import matplotlib.pyplot as plt\n",
    "%matplotlib inline  \n",
    "\n",
    "fig, ax = plt.subplots()\n",
    "plt.scatter(X,y)\n",
    "\n",
    "ax.set(xlabel='X', ylabel='y')\n",
    "\n",
    "plt.show()"
   ]
  },
  {
   "cell_type": "markdown",
   "metadata": {},
   "source": [
    "### Cost and Gradient Descent"
   ]
  },
  {
   "cell_type": "code",
   "execution_count": 121,
   "metadata": {},
   "outputs": [
    {
     "name": "stdout",
     "output_type": "stream",
     "text": [
      "[[1.     5.5277]\n",
      " [1.     8.5186]\n",
      " [1.     7.0032]\n",
      " [1.     5.8598]]\n"
     ]
    }
   ],
   "source": [
    "# X needs a column of 1s:\n",
    "X = np.c_[ np.ones(m), X ] \n",
    "print(X[1:5])"
   ]
  },
  {
   "cell_type": "code",
   "execution_count": 149,
   "metadata": {},
   "outputs": [
    {
     "name": "stdout",
     "output_type": "stream",
     "text": [
      "[0 0]\n"
     ]
    }
   ],
   "source": [
    "# Set theta to 0\n",
    "theta = np.array([0,0])\n",
    "\n",
    "print(theta)"
   ]
  },
  {
   "cell_type": "markdown",
   "metadata": {},
   "source": [
    "### Set parameters and def Cost Function J"
   ]
  },
  {
   "cell_type": "code",
   "execution_count": 150,
   "metadata": {},
   "outputs": [],
   "source": [
    "def computeCost_J(X, y, theta):\n",
    "    m = len(y)\n",
    "    \n",
    "    # Must use np.dot (dot-product in Python\n",
    "    prediction = np.dot(X, theta) \n",
    "    sqErr = (prediction - y)**2\n",
    "    J = 1/(2*m) * np.sum(sqErr)\n",
    "    \n",
    "    return(J)\n",
    "    "
   ]
  },
  {
   "cell_type": "code",
   "execution_count": 151,
   "metadata": {},
   "outputs": [
    {
     "name": "stdout",
     "output_type": "stream",
     "text": [
      "cost for theta  [0 0]  is J =  32.072733877455676\n"
     ]
    }
   ],
   "source": [
    "J = computeCost_J(X,y, theta)\n",
    "print(\"cost for theta \", theta, \" is J = \", J)"
   ]
  },
  {
   "cell_type": "code",
   "execution_count": 170,
   "metadata": {},
   "outputs": [
    {
     "name": "stdout",
     "output_type": "stream",
     "text": [
      "cost for theta  [-1  2]  is J =  54.24245508201238\n"
     ]
    }
   ],
   "source": [
    "# Try different theta\n",
    "theta = np.array([-1,2])\n",
    "\n",
    "J = computeCost_J(X, y, theta)\n",
    "print(\"cost for theta \", theta, \" is J = \", J)"
   ]
  },
  {
   "cell_type": "markdown",
   "metadata": {},
   "source": [
    "### def GradientDescent Function"
   ]
  },
  {
   "cell_type": "code",
   "execution_count": 186,
   "metadata": {},
   "outputs": [],
   "source": [
    "def gradientDescent(X, y, theta, alpha, iterations):\n",
    "    \n",
    "    # This will store J for each iteration:\n",
    "    J_history = np.zeros(iterations)\n",
    "    \n",
    "    for i in range(0,iterations):\n",
    "        \n",
    "        '''1 - the theta vector. X has size (m x n), and theta is (n x 1), \n",
    "        so the product is (m x 1). That's good, because it's the same \n",
    "        size as 'y'. Call this hypothesis vector 'h'.'''\n",
    "        \n",
    "        h = np.dot(X, theta)\n",
    "        \n",
    "        '''2 - The \"errors vector\" is the difference between the \n",
    "        'h' vector and the 'y' vector.'''\n",
    "        \n",
    "        error = h - y\n",
    "        \n",
    "        '''3 - The change in theta (the \"gradient\") is the sum of \n",
    "        the product of X and the \"errors vector\", scaled by alpha \n",
    "        and 1/m. Since X is (m x n), and the error vector is (m x 1), \n",
    "        and the result you want is the same size as theta (which is \n",
    "        (n x 1), you need to transpose X before you can multiply it \n",
    "        by the error vector.'''\n",
    "        \n",
    "        thetaChange = alpha * (1/m) * (np.dot(X.transpose(), error))\n",
    "\n",
    "        theta = theta - thetaChange\n",
    "        \n",
    "        J_history[i] = computeCost_J(X, y, theta)\n",
    "        \n",
    "    return(theta, J_history)"
   ]
  },
  {
   "cell_type": "code",
   "execution_count": 191,
   "metadata": {},
   "outputs": [
    {
     "name": "stdout",
     "output_type": "stream",
     "text": [
      "After  1500  iterations, the theta was set to  [-3.89495096  1.19295027]\n"
     ]
    }
   ],
   "source": [
    "iterations = 1500\n",
    "alpha = 0.01\n",
    "\n",
    "theta, J_history = gradientDescent(X, y, theta, alpha, iterations)\n",
    "\n",
    "print(\"After \", iterations, \" iterations, the theta was set to \", theta)"
   ]
  },
  {
   "cell_type": "code",
   "execution_count": 205,
   "metadata": {},
   "outputs": [
    {
     "data": {
      "image/png": "[encoded data removed]",
      "text/plain": [
       "<Figure size 432x288 with 1 Axes>"
      ]
     },
     "metadata": {
      "needs_background": "light"
     },
     "output_type": "display_data"
    }
   ],
   "source": [
    "# Plot this gradient descent\n",
    "i = np.arange(0, iterations, 1)\n",
    "\n",
    "fig, ax = plt.subplots()\n",
    "ax.plot(i, J_history)\n",
    "\n",
    "ax.set(xlabel='Iteration', ylabel='J(theta)')\n",
    "ax.grid()\n",
    "\n",
    "plt.show()"
   ]
  },
  {
   "cell_type": "code",
   "execution_count": null,
   "metadata": {},
   "outputs": [],
   "source": []
  },
  {
   "cell_type": "code",
   "execution_count": null,
   "metadata": {},
   "outputs": [],
   "source": []
  },
  {
   "cell_type": "code",
   "execution_count": null,
   "metadata": {},
   "outputs": [],
   "source": []
  }
 ],
 "metadata": {
  "kernelspec": {
   "display_name": "Python 3",
   "language": "python",
   "name": "python3"
  },
  "language_info": {
   "codemirror_mode": {
    "name": "ipython",
    "version": 3
   },
   "file_extension": ".py",
   "mimetype": "text/x-python",
   "name": "python",
   "nbconvert_exporter": "python",
   "pygments_lexer": "ipython3",
   "version": "3.6.6"
  }
 },
 "nbformat": 4,
 "nbformat_minor": 2
}
